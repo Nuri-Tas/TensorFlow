{
 "cells": [
  {
   "cell_type": "markdown",
   "id": "c41c2c60",
   "metadata": {},
   "source": [
    "# Load and Inspect the CIFAR-10 Dataset"
   ]
  },
  {
   "cell_type": "code",
   "execution_count": 1,
   "id": "fc86bfbf",
   "metadata": {},
   "outputs": [],
   "source": [
    "import tensorflow as tf\n",
    "from tensorflow.keras.models import Sequential\n",
    "from tensorflow.keras.layers import Flatten, Dense, Conv2D, MaxPooling2D\n",
    "from tensorflow.keras.callbacks import ModelCheckpoint, EarlyStopping\n",
    "import matplotlib.pyplot as plt"
   ]
  },
  {
   "cell_type": "code",
   "execution_count": 2,
   "id": "210ff555",
   "metadata": {},
   "outputs": [],
   "source": [
    "(x_train, y_train), (x_test, y_test) = tf.keras.datasets.cifar10.load_data()"
   ]
  },
  {
   "cell_type": "code",
   "execution_count": 3,
   "id": "ddec7b0d",
   "metadata": {},
   "outputs": [
    {
     "name": "stdout",
     "output_type": "stream",
     "text": [
      "(50000, 32, 32, 3)\n",
      "(50000, 1)\n",
      "(10000, 32, 32, 3)\n",
      "(10000, 1)\n"
     ]
    }
   ],
   "source": [
    "print(x_train.shape)\n",
    "print(y_train.shape)\n",
    "print(x_test.shape)\n",
    "print(y_test.shape)"
   ]
  },
  {
   "cell_type": "code",
   "execution_count": 4,
   "id": "d0deada9",
   "metadata": {},
   "outputs": [],
   "source": [
    "x_train = x_train / 255\n",
    "x_test = x_test / 255"
   ]
  },
  {
   "cell_type": "code",
   "execution_count": 5,
   "id": "45f8d0f9",
   "metadata": {},
   "outputs": [],
   "source": [
    "def get_test_accuracy(model, x_test, y_test):\n",
    "  test_loss, test_acc = model.evaluate(x_test, y_test)"
   ]
  },
  {
   "cell_type": "code",
   "execution_count": 6,
   "id": "56639fe0",
   "metadata": {},
   "outputs": [],
   "source": [
    "def get_new_model():\n",
    "  model = Sequential([\n",
    "                      Conv2D(filters=16, kernel_size=(3,3), input_shape=(32, 32, 3), activation='relu', name='conv_1' ),\n",
    "                      Conv2D(filters=8, kernel_size=(3,3), activation='relu', name='conv_2'),\n",
    "                      MaxPooling2D(pool_size=(4,4), name='pool_1'),\n",
    "                      Flatten(),\n",
    "                      Dense(32, activation='relu'),\n",
    "                      Dense(10, activation='softmax')\n",
    "  ])\n",
    "\n",
    "  model.compile(optimizer='adam', loss='sparse_categorical_crossentropy', metrics='accuracy')\n",
    "  \n",
    "  return model"
   ]
  },
  {
   "cell_type": "code",
   "execution_count": 7,
   "id": "0a22f274",
   "metadata": {},
   "outputs": [],
   "source": [
    "checkpoint_5000_path ='model_checkpoints_5000\\checkpoint_{epoch:02d}_{batch:04d}'"
   ]
  },
  {
   "cell_type": "code",
   "execution_count": 8,
   "id": "332c7f2e",
   "metadata": {},
   "outputs": [],
   "source": [
    "checkpoint_5000 = ModelCheckpoint(filepath=checkpoint_5000_path, \n",
    "                                  save_weights_only=True,\n",
    "                                  save_freq=1000,\n",
    "                                  verbose=1\n",
    "                                  )"
   ]
  },
  {
   "cell_type": "code",
   "execution_count": 9,
   "id": "6933fe04",
   "metadata": {},
   "outputs": [
    {
     "name": "stdout",
     "output_type": "stream",
     "text": [
      "Epoch 1/3\n",
      " 998/5000 [====>.........................] - ETA: 57s - loss: 1.9170 - accuracy: 0.2989\n",
      "Epoch 1: saving model to model_checkpoints_5000\\checkpoint_01_1000\n",
      "1996/5000 [==========>...................] - ETA: 39s - loss: 1.7412 - accuracy: 0.3651\n",
      "Epoch 1: saving model to model_checkpoints_5000\\checkpoint_01_2000\n",
      "2997/5000 [================>.............] - ETA: 26s - loss: 1.6514 - accuracy: 0.4003\n",
      "Epoch 1: saving model to model_checkpoints_5000\\checkpoint_01_3000\n",
      "3999/5000 [======================>.......] - ETA: 13s - loss: 1.5897 - accuracy: 0.4219\n",
      "Epoch 1: saving model to model_checkpoints_5000\\checkpoint_01_4000\n",
      "4999/5000 [============================>.] - ETA: 0s - loss: 1.5409 - accuracy: 0.4415\n",
      "Epoch 1: saving model to model_checkpoints_5000\\checkpoint_01_5000\n",
      "5000/5000 [==============================] - 69s 14ms/step - loss: 1.5409 - accuracy: 0.4415\n",
      "Epoch 2/3\n",
      " 998/5000 [====>.........................] - ETA: 50s - loss: 1.3016 - accuracy: 0.5416\n",
      "Epoch 2: saving model to model_checkpoints_5000\\checkpoint_02_1000\n",
      "1996/5000 [==========>...................] - ETA: 36s - loss: 1.2709 - accuracy: 0.5509\n",
      "Epoch 2: saving model to model_checkpoints_5000\\checkpoint_02_2000\n",
      "2995/5000 [================>.............] - ETA: 24s - loss: 1.2464 - accuracy: 0.5605\n",
      "Epoch 2: saving model to model_checkpoints_5000\\checkpoint_02_3000\n",
      "3997/5000 [======================>.......] - ETA: 12s - loss: 1.2340 - accuracy: 0.5636\n",
      "Epoch 2: saving model to model_checkpoints_5000\\checkpoint_02_4000\n",
      "4998/5000 [============================>.] - ETA: 0s - loss: 1.2185 - accuracy: 0.5693\n",
      "Epoch 2: saving model to model_checkpoints_5000\\checkpoint_02_5000\n",
      "5000/5000 [==============================] - 61s 12ms/step - loss: 1.2184 - accuracy: 0.5693\n",
      "Epoch 3/3\n",
      " 996/5000 [====>.........................] - ETA: 49s - loss: 1.0914 - accuracy: 0.6154\n",
      "Epoch 3: saving model to model_checkpoints_5000\\checkpoint_03_1000\n",
      "1996/5000 [==========>...................] - ETA: 37s - loss: 1.0974 - accuracy: 0.6140\n",
      "Epoch 3: saving model to model_checkpoints_5000\\checkpoint_03_2000\n",
      "2999/5000 [================>.............] - ETA: 24s - loss: 1.1075 - accuracy: 0.6119\n",
      "Epoch 3: saving model to model_checkpoints_5000\\checkpoint_03_3000\n",
      "3995/5000 [======================>.......] - ETA: 12s - loss: 1.1084 - accuracy: 0.6114\n",
      "Epoch 3: saving model to model_checkpoints_5000\\checkpoint_03_4000\n",
      "4996/5000 [============================>.] - ETA: 0s - loss: 1.1045 - accuracy: 0.6130\n",
      "Epoch 3: saving model to model_checkpoints_5000\\checkpoint_03_5000\n",
      "5000/5000 [==============================] - 63s 13ms/step - loss: 1.1046 - accuracy: 0.6129\n"
     ]
    },
    {
     "data": {
      "text/plain": [
       "<keras.callbacks.History at 0x279a0cf7d00>"
      ]
     },
     "execution_count": 9,
     "metadata": {},
     "output_type": "execute_result"
    }
   ],
   "source": [
    "model = get_new_model()\n",
    "model.fit(x_train, y_train, epochs=3, batch_size=10, callbacks=[checkpoint_5000])"
   ]
  },
  {
   "cell_type": "code",
   "execution_count": 10,
   "id": "7ad9c22f",
   "metadata": {},
   "outputs": [
    {
     "data": {
      "text/plain": [
       "(50000, 32, 32, 3)"
      ]
     },
     "execution_count": 10,
     "metadata": {},
     "output_type": "execute_result"
    }
   ],
   "source": [
    "x_train.shape"
   ]
  },
  {
   "cell_type": "code",
   "execution_count": 11,
   "id": "eddb7d56",
   "metadata": {},
   "outputs": [
    {
     "name": "stdout",
     "output_type": "stream",
     "text": [
      " Volume in drive C has no label.\n",
      " Volume Serial Number is FA51-07F1\n",
      "\n",
      " Directory of C:\\Users\\Lenovo\n",
      "\n",
      "\n",
      " Directory of C:\\Users\\Lenovo\\model_checkpoints_5000\n",
      "\n",
      "05/13/2022  10:17 AM    <DIR>          .\n",
      "05/13/2022  10:17 AM    <DIR>          ..\n",
      "05/13/2022  10:17 AM                93 checkpoint\n",
      "05/13/2022  10:14 AM           178,000 checkpoint_01_1000.data-00000-of-00001\n",
      "05/13/2022  10:14 AM             2,038 checkpoint_01_1000.index\n",
      "05/13/2022  10:15 AM           178,000 checkpoint_01_2000.data-00000-of-00001\n",
      "05/13/2022  10:15 AM             2,038 checkpoint_01_2000.index\n",
      "05/13/2022  10:15 AM           178,000 checkpoint_01_3000.data-00000-of-00001\n",
      "05/13/2022  10:15 AM             2,038 checkpoint_01_3000.index\n",
      "05/13/2022  10:15 AM           178,000 checkpoint_01_4000.data-00000-of-00001\n",
      "05/13/2022  10:15 AM             2,038 checkpoint_01_4000.index\n",
      "05/13/2022  10:15 AM           178,000 checkpoint_01_5000.data-00000-of-00001\n",
      "05/13/2022  10:15 AM             2,038 checkpoint_01_5000.index\n",
      "05/13/2022  10:16 AM           178,000 checkpoint_02_1000.data-00000-of-00001\n",
      "05/13/2022  10:16 AM             2,038 checkpoint_02_1000.index\n",
      "05/13/2022  10:16 AM           178,000 checkpoint_02_2000.data-00000-of-00001\n",
      "05/13/2022  10:16 AM             2,038 checkpoint_02_2000.index\n",
      "05/13/2022  10:16 AM           178,000 checkpoint_02_3000.data-00000-of-00001\n",
      "05/13/2022  10:16 AM             2,038 checkpoint_02_3000.index\n",
      "05/13/2022  10:16 AM           178,000 checkpoint_02_4000.data-00000-of-00001\n",
      "05/13/2022  10:16 AM             2,038 checkpoint_02_4000.index\n",
      "05/13/2022  10:16 AM           178,000 checkpoint_02_5000.data-00000-of-00001\n",
      "05/13/2022  10:16 AM             2,038 checkpoint_02_5000.index\n",
      "05/13/2022  10:17 AM           178,000 checkpoint_03_1000.data-00000-of-00001\n",
      "05/13/2022  10:17 AM             2,038 checkpoint_03_1000.index\n",
      "05/13/2022  10:17 AM           178,000 checkpoint_03_2000.data-00000-of-00001\n",
      "05/13/2022  10:17 AM             2,038 checkpoint_03_2000.index\n",
      "05/13/2022  10:17 AM           178,000 checkpoint_03_3000.data-00000-of-00001\n",
      "05/13/2022  10:17 AM             2,038 checkpoint_03_3000.index\n",
      "05/13/2022  10:17 AM           178,000 checkpoint_03_4000.data-00000-of-00001\n",
      "05/13/2022  10:17 AM             2,038 checkpoint_03_4000.index\n",
      "05/13/2022  10:17 AM           178,000 checkpoint_03_5000.data-00000-of-00001\n",
      "05/13/2022  10:17 AM             2,038 checkpoint_03_5000.index\n",
      "              31 File(s)      2,700,663 bytes\n",
      "               2 Dir(s)  300,269,658,112 bytes free\n"
     ]
    },
    {
     "name": "stderr",
     "output_type": "stream",
     "text": [
      "File Not Found\n"
     ]
    }
   ],
   "source": [
    "! dir -lh model_checkpoints_5000"
   ]
  },
  {
   "cell_type": "markdown",
   "id": "86c6968e",
   "metadata": {},
   "source": [
    "### Model Saving Criteria "
   ]
  },
  {
   "cell_type": "code",
   "execution_count": 12,
   "id": "079f2783",
   "metadata": {},
   "outputs": [],
   "source": [
    "x_train = x_train[:100]\n",
    "y_train = y_train[:100]\n",
    "x_test = x_test[:100]\n",
    "y_test = y_test[:100]"
   ]
  },
  {
   "cell_type": "code",
   "execution_count": 13,
   "id": "b0fc0775",
   "metadata": {},
   "outputs": [],
   "source": [
    "model = get_new_model()"
   ]
  },
  {
   "cell_type": "code",
   "execution_count": 14,
   "id": "3d79e671",
   "metadata": {},
   "outputs": [],
   "source": [
    "checkpoint_best_path = 'modelcheckpoints\\checkpoint'\n",
    "checkpoint_best = ModelCheckpoint(filepath=checkpoint_best_path,\n",
    "                                 save_weights_only=True,\n",
    "                                  save_freg='epoch',\n",
    "                                  monitor='val_accuracy',\n",
    "                                  save_best_only=True,\n",
    "                                  verbose=1\n",
    "                                 )"
   ]
  },
  {
   "cell_type": "code",
   "execution_count": 15,
   "id": "cc23ab91",
   "metadata": {},
   "outputs": [
    {
     "name": "stdout",
     "output_type": "stream",
     "text": [
      "\n",
      "Epoch 1: val_accuracy improved from -inf to 0.11000, saving model to modelcheckpoints\\checkpoint\n",
      "\n",
      "Epoch 2: val_accuracy did not improve from 0.11000\n",
      "\n",
      "Epoch 3: val_accuracy did not improve from 0.11000\n",
      "\n",
      "Epoch 4: val_accuracy improved from 0.11000 to 0.12000, saving model to modelcheckpoints\\checkpoint\n",
      "\n",
      "Epoch 5: val_accuracy did not improve from 0.12000\n",
      "\n",
      "Epoch 6: val_accuracy did not improve from 0.12000\n",
      "\n",
      "Epoch 7: val_accuracy did not improve from 0.12000\n",
      "\n",
      "Epoch 8: val_accuracy did not improve from 0.12000\n",
      "\n",
      "Epoch 9: val_accuracy did not improve from 0.12000\n",
      "\n",
      "Epoch 10: val_accuracy improved from 0.12000 to 0.15000, saving model to modelcheckpoints\\checkpoint\n"
     ]
    }
   ],
   "source": [
    "history = model.fit(x_train, y_train, validation_data=(x_test, y_test), epochs=10, batch_size=10,\n",
    "                    verbose=False, callbacks=[checkpoint_best])"
   ]
  },
  {
   "cell_type": "code",
   "execution_count": 16,
   "id": "11605d31",
   "metadata": {},
   "outputs": [
    {
     "data": {
      "text/plain": [
       "<AxesSubplot:>"
      ]
     },
     "execution_count": 16,
     "metadata": {},
     "output_type": "execute_result"
    },
    {
     "data": {
      "image/png": "[encoded data removed]",
      "text/plain": [
       "<Figure size 432x288 with 1 Axes>"
      ]
     },
     "metadata": {
      "needs_background": "light"
     },
     "output_type": "display_data"
    }
   ],
   "source": [
    "import pandas as pd\n",
    "\n",
    "df = pd.DataFrame(history.history)\n",
    "df.plot(y=['accuracy', 'val_accuracy'])"
   ]
  },
  {
   "cell_type": "code",
   "execution_count": 17,
   "id": "94325903",
   "metadata": {},
   "outputs": [
    {
     "name": "stdout",
     "output_type": "stream",
     "text": [
      " Volume in drive C has no label.\n",
      " Volume Serial Number is FA51-07F1\n",
      "\n",
      " Directory of C:\\Users\\Lenovo\n",
      "\n",
      "\n",
      " Directory of C:\\Users\\Lenovo\\modelcheckpoints\n",
      "\n",
      "05/13/2022  10:17 AM    <DIR>          .\n",
      "05/13/2022  10:17 AM    <DIR>          ..\n",
      "05/13/2022  10:17 AM                77 checkpoint\n",
      "05/13/2022  10:17 AM           178,037 checkpoint.data-00000-of-00001\n",
      "05/13/2022  10:17 AM             2,038 checkpoint.index\n",
      "               3 File(s)        180,152 bytes\n",
      "               2 Dir(s)  300,269,645,824 bytes free\n"
     ]
    },
    {
     "name": "stderr",
     "output_type": "stream",
     "text": [
      "File Not Found\n"
     ]
    }
   ],
   "source": [
    "!dir -lh modelcheckpoints"
   ]
  },
  {
   "cell_type": "markdown",
   "id": "8381b7c9",
   "metadata": {},
   "source": [
    "Create a new model with the saved weights"
   ]
  },
  {
   "cell_type": "code",
   "execution_count": 18,
   "id": "c5360cf3",
   "metadata": {},
   "outputs": [
    {
     "name": "stdout",
     "output_type": "stream",
     "text": [
      "4/4 [==============================] - 0s 9ms/step - loss: 2.3412 - accuracy: 0.1500\n"
     ]
    }
   ],
   "source": [
    "model = get_new_model()\n",
    "model.load_weights('modelcheckpoints\\checkpoint')\n",
    "\n",
    "get_test_accuracy(model, x_test, y_test)"
   ]
  },
  {
   "cell_type": "markdown",
   "id": "78034036",
   "metadata": {},
   "source": [
    "val_accuracy is the same as the highest value of val_accuray saved in the checkpoint."
   ]
  },
  {
   "cell_type": "markdown",
   "id": "ab4d21af",
   "metadata": {},
   "source": [
    "# Saving the Entire Model"
   ]
  },
  {
   "cell_type": "markdown",
   "id": "e1861fa3",
   "metadata": {},
   "source": [
    "Load the original dataset again"
   ]
  },
  {
   "cell_type": "code",
   "execution_count": 100,
   "id": "24676e77",
   "metadata": {},
   "outputs": [],
   "source": [
    "(x_train, y_train), (x_test, y_test) = tf.keras.datasets.cifar10.load_data()"
   ]
  },
  {
   "cell_type": "code",
   "execution_count": 118,
   "id": "973b2b74",
   "metadata": {},
   "outputs": [],
   "source": [
    "x_train = x_train[:10000]\n",
    "y_train = y_train[:10000]\n",
    "x_test = x_test[:10000]\n",
    "y_test = y_test[:10000]\n",
    "\n",
    "x_train = x_train / 255\n",
    "x_test = x_test / 255"
   ]
  },
  {
   "cell_type": "code",
   "execution_count": 146,
   "id": "23c2024c",
   "metadata": {},
   "outputs": [],
   "source": [
    "model = get_new_model()\n",
    "\n",
    "checkpoint_path = 'model_checkpoint'\n",
    "checkpoint = ModelCheckpoint(filepath=checkpoint_path, \n",
    "                             save_weights_only=False, # the checkpoint does not save weights only by default\n",
    "                             save_freq='epoch',\n",
    "                             ) "
   ]
  },
  {
   "cell_type": "code",
   "execution_count": 147,
   "id": "d0af9572",
   "metadata": {},
   "outputs": [
    {
     "name": "stdout",
     "output_type": "stream",
     "text": [
      "Epoch 1/3\n",
      "312/313 [============================>.] - ETA: 0s - loss: 2.3027 - accuracy: 0.0960INFO:tensorflow:Assets written to: model_checkpoint\\assets\n",
      "313/313 [==============================] - 12s 34ms/step - loss: 2.3027 - accuracy: 0.0959\n",
      "Epoch 2/3\n",
      "312/313 [============================>.] - ETA: 0s - loss: 2.3025 - accuracy: 0.1035INFO:tensorflow:Assets written to: model_checkpoint\\assets\n",
      "313/313 [==============================] - 10s 33ms/step - loss: 2.3025 - accuracy: 0.1037\n",
      "Epoch 3/3\n",
      "311/313 [============================>.] - ETA: 0s - loss: 2.3024 - accuracy: 0.1014INFO:tensorflow:Assets written to: model_checkpoint\\assets\n",
      "313/313 [==============================] - 10s 32ms/step - loss: 2.3025 - accuracy: 0.1013\n"
     ]
    },
    {
     "data": {
      "text/plain": [
       "<keras.callbacks.History at 0x279a8a84eb0>"
      ]
     },
     "execution_count": 147,
     "metadata": {},
     "output_type": "execute_result"
    }
   ],
   "source": [
    "model.fit(x_train, y_train, epochs=3, verbose=True, callbacks=[checkpoint])"
   ]
  },
  {
   "cell_type": "code",
   "execution_count": 148,
   "id": "026f963c",
   "metadata": {},
   "outputs": [
    {
     "name": "stdout",
     "output_type": "stream",
     "text": [
      " Volume in drive C has no label.\n",
      " Volume Serial Number is FA51-07F1\n",
      "\n",
      " Directory of C:\\Users\\Lenovo\n",
      "\n",
      "\n",
      " Directory of C:\\Users\\Lenovo\\model_checkpoint\n",
      "\n"
     ]
    },
    {
     "name": "stderr",
     "output_type": "stream",
     "text": [
      "File Not Found\n"
     ]
    },
    {
     "name": "stdout",
     "output_type": "stream",
     "text": [
      "05/13/2022  11:19 AM    <DIR>          .\n",
      "05/13/2022  11:19 AM    <DIR>          ..\n",
      "05/13/2022  11:03 AM    <DIR>          assets\n",
      "05/13/2022  11:19 AM            13,905 keras_metadata.pb\n",
      "05/13/2022  11:19 AM           119,699 saved_model.pb\n",
      "05/13/2022  11:19 AM    <DIR>          variables\n",
      "               2 File(s)        133,604 bytes\n",
      "               4 Dir(s)  300,288,651,264 bytes free\n"
     ]
    }
   ],
   "source": [
    "! dir -lh model_checkpoint"
   ]
  },
  {
   "cell_type": "code",
   "execution_count": 153,
   "id": "ab8b3d04",
   "metadata": {},
   "outputs": [
    {
     "name": "stdout",
     "output_type": "stream",
     "text": [
      " Volume in drive C has no label.\n",
      " Volume Serial Number is FA51-07F1"
     ]
    },
    {
     "name": "stderr",
     "output_type": "stream",
     "text": [
      "File Not Found\n"
     ]
    },
    {
     "name": "stdout",
     "output_type": "stream",
     "text": [
      "\n",
      "\n",
      " Directory of C:\\Users\\Lenovo\n",
      "\n",
      "\n",
      " Directory of C:\\Users\\Lenovo\\model_checkpoint\\variables\n",
      "\n",
      "05/13/2022  11:19 AM    <DIR>          .\n",
      "05/13/2022  11:19 AM    <DIR>          ..\n",
      "05/13/2022  11:19 AM           182,172 variables.data-00000-of-00001\n",
      "05/13/2022  11:19 AM             2,251 variables.index\n",
      "               2 File(s)        184,423 bytes\n",
      "               2 Dir(s)  300,279,226,368 bytes free\n"
     ]
    }
   ],
   "source": [
    "! dir -lh model_checkpoint\\variables"
   ]
  },
  {
   "cell_type": "code",
   "execution_count": 149,
   "id": "64d0b08c",
   "metadata": {},
   "outputs": [
    {
     "name": "stdout",
     "output_type": "stream",
     "text": [
      "313/313 [==============================] - 4s 13ms/step - loss: 2.3029 - accuracy: 0.1000\n"
     ]
    }
   ],
   "source": [
    "get_test_accuracy(model, x_test, y_test)"
   ]
  },
  {
   "cell_type": "markdown",
   "id": "5380a918",
   "metadata": {},
   "source": [
    "Delete the model and then load the model architecture from the file"
   ]
  },
  {
   "cell_type": "code",
   "execution_count": 150,
   "id": "326f2f08",
   "metadata": {},
   "outputs": [],
   "source": [
    "del model"
   ]
  },
  {
   "cell_type": "code",
   "execution_count": 198,
   "id": "ce5438bf",
   "metadata": {},
   "outputs": [],
   "source": [
    "from tensorflow.keras.models import load_model"
   ]
  },
  {
   "cell_type": "code",
   "execution_count": 152,
   "id": "f8cc3231",
   "metadata": {},
   "outputs": [
    {
     "name": "stdout",
     "output_type": "stream",
     "text": [
      "313/313 [==============================] - 4s 11ms/step - loss: 2.3029 - accuracy: 0.1000\n"
     ]
    }
   ],
   "source": [
    "model = load_model(checkpoint_path)\n",
    "get_test_accuracy(model, x_test, y_test)"
   ]
  },
  {
   "cell_type": "markdown",
   "id": "f08c262c",
   "metadata": {},
   "source": [
    "We got the same loss and accuracy value as expected"
   ]
  },
  {
   "cell_type": "markdown",
   "id": "8a06a331",
   "metadata": {},
   "source": [
    "# Loading pre-trained Keras Models"
   ]
  },
  {
   "cell_type": "code",
   "execution_count": 247,
   "id": "59803596",
   "metadata": {},
   "outputs": [],
   "source": [
    "from tensorflow.keras.applications.resnet50 import ResNet50, preprocess_input, decode_predictions\n",
    "from tensorflow.keras.preprocessing import image\n",
    "import numpy as np"
   ]
  },
  {
   "cell_type": "code",
   "execution_count": 248,
   "id": "919bee4b",
   "metadata": {},
   "outputs": [],
   "source": [
    "model = ResNet50(weights='imagenet')"
   ]
  },
  {
   "cell_type": "code",
   "execution_count": 249,
   "id": "03d61cdb",
   "metadata": {},
   "outputs": [
    {
     "name": "stdout",
     "output_type": "stream",
     "text": [
      "Model: \"resnet50\"\n",
      "__________________________________________________________________________________________________\n",
      " Layer (type)                   Output Shape         Param #     Connected to                     \n",
      "==================================================================================================\n",
      " input_2 (InputLayer)           [(None, 224, 224, 3  0           []                               \n",
      "                                )]                                                                \n",
      "                                                                                                  \n",
      " conv1_pad (ZeroPadding2D)      (None, 230, 230, 3)  0           ['input_2[0][0]']                \n",
      "                                                                                                  \n",
      " conv1_conv (Conv2D)            (None, 112, 112, 64  9472        ['conv1_pad[0][0]']              \n",
      "                                )                                                                 \n",
      "                                                                                                  \n",
      " conv1_bn (BatchNormalization)  (None, 112, 112, 64  256         ['conv1_conv[0][0]']             \n",
      "                                )                                                                 \n",
      "                                                                                                  \n",
      " conv1_relu (Activation)        (None, 112, 112, 64  0           ['conv1_bn[0][0]']               \n",
      "                                )                                                                 \n",
      "                                                                                                  \n",
      " pool1_pad (ZeroPadding2D)      (None, 114, 114, 64  0           ['conv1_relu[0][0]']             \n",
      "                                )                                                                 \n",
      "                                                                                                  \n",
      " pool1_pool (MaxPooling2D)      (None, 56, 56, 64)   0           ['pool1_pad[0][0]']              \n",
      "                                                                                                  \n",
      " conv2_block1_1_conv (Conv2D)   (None, 56, 56, 64)   4160        ['pool1_pool[0][0]']             \n",
      "                                                                                                  \n",
      " conv2_block1_1_bn (BatchNormal  (None, 56, 56, 64)  256         ['conv2_block1_1_conv[0][0]']    \n",
      " ization)                                                                                         \n",
      "                                                                                                  \n",
      " conv2_block1_1_relu (Activatio  (None, 56, 56, 64)  0           ['conv2_block1_1_bn[0][0]']      \n",
      " n)                                                                                               \n",
      "                                                                                                  \n",
      " conv2_block1_2_conv (Conv2D)   (None, 56, 56, 64)   36928       ['conv2_block1_1_relu[0][0]']    \n",
      "                                                                                                  \n",
      " conv2_block1_2_bn (BatchNormal  (None, 56, 56, 64)  256         ['conv2_block1_2_conv[0][0]']    \n",
      " ization)                                                                                         \n",
      "                                                                                                  \n",
      " conv2_block1_2_relu (Activatio  (None, 56, 56, 64)  0           ['conv2_block1_2_bn[0][0]']      \n",
      " n)                                                                                               \n",
      "                                                                                                  \n",
      " conv2_block1_0_conv (Conv2D)   (None, 56, 56, 256)  16640       ['pool1_pool[0][0]']             \n",
      "                                                                                                  \n",
      " conv2_block1_3_conv (Conv2D)   (None, 56, 56, 256)  16640       ['conv2_block1_2_relu[0][0]']    \n",
      "                                                                                                  \n",
      " conv2_block1_0_bn (BatchNormal  (None, 56, 56, 256)  1024       ['conv2_block1_0_conv[0][0]']    \n",
      " ization)                                                                                         \n",
      "                                                                                                  \n",
      " conv2_block1_3_bn (BatchNormal  (None, 56, 56, 256)  1024       ['conv2_block1_3_conv[0][0]']    \n",
      " ization)                                                                                         \n",
      "                                                                                                  \n",
      " conv2_block1_add (Add)         (None, 56, 56, 256)  0           ['conv2_block1_0_bn[0][0]',      \n",
      "                                                                  'conv2_block1_3_bn[0][0]']      \n",
      "                                                                                                  \n",
      " conv2_block1_out (Activation)  (None, 56, 56, 256)  0           ['conv2_block1_add[0][0]']       \n",
      "                                                                                                  \n",
      " conv2_block2_1_conv (Conv2D)   (None, 56, 56, 64)   16448       ['conv2_block1_out[0][0]']       \n",
      "                                                                                                  \n",
      " conv2_block2_1_bn (BatchNormal  (None, 56, 56, 64)  256         ['conv2_block2_1_conv[0][0]']    \n",
      " ization)                                                                                         \n",
      "                                                                                                  \n",
      " conv2_block2_1_relu (Activatio  (None, 56, 56, 64)  0           ['conv2_block2_1_bn[0][0]']      \n",
      " n)                                                                                               \n",
      "                                                                                                  \n",
      " conv2_block2_2_conv (Conv2D)   (None, 56, 56, 64)   36928       ['conv2_block2_1_relu[0][0]']    \n",
      "                                                                                                  \n",
      " conv2_block2_2_bn (BatchNormal  (None, 56, 56, 64)  256         ['conv2_block2_2_conv[0][0]']    \n",
      " ization)                                                                                         \n",
      "                                                                                                  \n",
      " conv2_block2_2_relu (Activatio  (None, 56, 56, 64)  0           ['conv2_block2_2_bn[0][0]']      \n",
      " n)                                                                                               \n",
      "                                                                                                  \n",
      " conv2_block2_3_conv (Conv2D)   (None, 56, 56, 256)  16640       ['conv2_block2_2_relu[0][0]']    \n",
      "                                                                                                  \n",
      " conv2_block2_3_bn (BatchNormal  (None, 56, 56, 256)  1024       ['conv2_block2_3_conv[0][0]']    \n",
      " ization)                                                                                         \n",
      "                                                                                                  \n",
      " conv2_block2_add (Add)         (None, 56, 56, 256)  0           ['conv2_block1_out[0][0]',       \n",
      "                                                                  'conv2_block2_3_bn[0][0]']      \n",
      "                                                                                                  \n",
      " conv2_block2_out (Activation)  (None, 56, 56, 256)  0           ['conv2_block2_add[0][0]']       \n",
      "                                                                                                  \n",
      " conv2_block3_1_conv (Conv2D)   (None, 56, 56, 64)   16448       ['conv2_block2_out[0][0]']       \n",
      "                                                                                                  \n",
      " conv2_block3_1_bn (BatchNormal  (None, 56, 56, 64)  256         ['conv2_block3_1_conv[0][0]']    \n",
      " ization)                                                                                         \n",
      "                                                                                                  \n",
      " conv2_block3_1_relu (Activatio  (None, 56, 56, 64)  0           ['conv2_block3_1_bn[0][0]']      \n",
      " n)                                                                                               \n",
      "                                                                                                  \n",
      " conv2_block3_2_conv (Conv2D)   (None, 56, 56, 64)   36928       ['conv2_block3_1_relu[0][0]']    \n",
      "                                                                                                  \n",
      " conv2_block3_2_bn (BatchNormal  (None, 56, 56, 64)  256         ['conv2_block3_2_conv[0][0]']    \n",
      " ization)                                                                                         \n",
      "                                                                                                  \n",
      " conv2_block3_2_relu (Activatio  (None, 56, 56, 64)  0           ['conv2_block3_2_bn[0][0]']      \n",
      " n)                                                                                               \n",
      "                                                                                                  \n",
      " conv2_block3_3_conv (Conv2D)   (None, 56, 56, 256)  16640       ['conv2_block3_2_relu[0][0]']    \n",
      "                                                                                                  \n",
      " conv2_block3_3_bn (BatchNormal  (None, 56, 56, 256)  1024       ['conv2_block3_3_conv[0][0]']    \n",
      " ization)                                                                                         \n",
      "                                                                                                  \n",
      " conv2_block3_add (Add)         (None, 56, 56, 256)  0           ['conv2_block2_out[0][0]',       \n",
      "                                                                  'conv2_block3_3_bn[0][0]']      \n",
      "                                                                                                  \n",
      " conv2_block3_out (Activation)  (None, 56, 56, 256)  0           ['conv2_block3_add[0][0]']       \n",
      "                                                                                                  \n",
      " conv3_block1_1_conv (Conv2D)   (None, 28, 28, 128)  32896       ['conv2_block3_out[0][0]']       \n",
      "                                                                                                  \n",
      " conv3_block1_1_bn (BatchNormal  (None, 28, 28, 128)  512        ['conv3_block1_1_conv[0][0]']    \n",
      " ization)                                                                                         \n",
      "                                                                                                  \n",
      " conv3_block1_1_relu (Activatio  (None, 28, 28, 128)  0          ['conv3_block1_1_bn[0][0]']      \n",
      " n)                                                                                               \n",
      "                                                                                                  \n",
      " conv3_block1_2_conv (Conv2D)   (None, 28, 28, 128)  147584      ['conv3_block1_1_relu[0][0]']    \n",
      "                                                                                                  \n",
      " conv3_block1_2_bn (BatchNormal  (None, 28, 28, 128)  512        ['conv3_block1_2_conv[0][0]']    \n",
      " ization)                                                                                         \n",
      "                                                                                                  \n",
      " conv3_block1_2_relu (Activatio  (None, 28, 28, 128)  0          ['conv3_block1_2_bn[0][0]']      \n",
      " n)                                                                                               \n",
      "                                                                                                  \n",
      " conv3_block1_0_conv (Conv2D)   (None, 28, 28, 512)  131584      ['conv2_block3_out[0][0]']       \n",
      "                                                                                                  \n",
      " conv3_block1_3_conv (Conv2D)   (None, 28, 28, 512)  66048       ['conv3_block1_2_relu[0][0]']    \n",
      "                                                                                                  \n",
      " conv3_block1_0_bn (BatchNormal  (None, 28, 28, 512)  2048       ['conv3_block1_0_conv[0][0]']    \n",
      " ization)                                                                                         \n",
      "                                                                                                  \n",
      " conv3_block1_3_bn (BatchNormal  (None, 28, 28, 512)  2048       ['conv3_block1_3_conv[0][0]']    \n",
      " ization)                                                                                         \n",
      "                                                                                                  \n",
      " conv3_block1_add (Add)         (None, 28, 28, 512)  0           ['conv3_block1_0_bn[0][0]',      \n",
      "                                                                  'conv3_block1_3_bn[0][0]']      \n",
      "                                                                                                  \n",
      " conv3_block1_out (Activation)  (None, 28, 28, 512)  0           ['conv3_block1_add[0][0]']       \n",
      "                                                                                                  \n",
      " conv3_block2_1_conv (Conv2D)   (None, 28, 28, 128)  65664       ['conv3_block1_out[0][0]']       \n",
      "                                                                                                  \n",
      " conv3_block2_1_bn (BatchNormal  (None, 28, 28, 128)  512        ['conv3_block2_1_conv[0][0]']    \n",
      " ization)                                                                                         \n",
      "                                                                                                  \n",
      " conv3_block2_1_relu (Activatio  (None, 28, 28, 128)  0          ['conv3_block2_1_bn[0][0]']      \n",
      " n)                                                                                               \n",
      "                                                                                                  \n",
      " conv3_block2_2_conv (Conv2D)   (None, 28, 28, 128)  147584      ['conv3_block2_1_relu[0][0]']    \n",
      "                                                                                                  \n",
      " conv3_block2_2_bn (BatchNormal  (None, 28, 28, 128)  512        ['conv3_block2_2_conv[0][0]']    \n",
      " ization)                                                                                         \n",
      "                                                                                                  \n",
      " conv3_block2_2_relu (Activatio  (None, 28, 28, 128)  0          ['conv3_block2_2_bn[0][0]']      \n",
      " n)                                                                                               \n",
      "                                                                                                  \n",
      " conv3_block2_3_conv (Conv2D)   (None, 28, 28, 512)  66048       ['conv3_block2_2_relu[0][0]']    \n",
      "                                                                                                  \n",
      " conv3_block2_3_bn (BatchNormal  (None, 28, 28, 512)  2048       ['conv3_block2_3_conv[0][0]']    \n",
      " ization)                                                                                         \n",
      "                                                                                                  \n",
      " conv3_block2_add (Add)         (None, 28, 28, 512)  0           ['conv3_block1_out[0][0]',       \n",
      "                                                                  'conv3_block2_3_bn[0][0]']      \n",
      "                                                                                                  \n",
      " conv3_block2_out (Activation)  (None, 28, 28, 512)  0           ['conv3_block2_add[0][0]']       \n",
      "                                                                                                  \n",
      " conv3_block3_1_conv (Conv2D)   (None, 28, 28, 128)  65664       ['conv3_block2_out[0][0]']       \n",
      "                                                                                                  \n",
      " conv3_block3_1_bn (BatchNormal  (None, 28, 28, 128)  512        ['conv3_block3_1_conv[0][0]']    \n",
      " ization)                                                                                         \n",
      "                                                                                                  \n",
      " conv3_block3_1_relu (Activatio  (None, 28, 28, 128)  0          ['conv3_block3_1_bn[0][0]']      \n",
      " n)                                                                                               \n",
      "                                                                                                  \n",
      " conv3_block3_2_conv (Conv2D)   (None, 28, 28, 128)  147584      ['conv3_block3_1_relu[0][0]']    \n",
      "                                                                                                  \n",
      " conv3_block3_2_bn (BatchNormal  (None, 28, 28, 128)  512        ['conv3_block3_2_conv[0][0]']    \n",
      " ization)                                                                                         \n",
      "                                                                                                  \n",
      " conv3_block3_2_relu (Activatio  (None, 28, 28, 128)  0          ['conv3_block3_2_bn[0][0]']      \n",
      " n)                                                                                               \n",
      "                                                                                                  \n",
      " conv3_block3_3_conv (Conv2D)   (None, 28, 28, 512)  66048       ['conv3_block3_2_relu[0][0]']    \n",
      "                                                                                                  \n",
      " conv3_block3_3_bn (BatchNormal  (None, 28, 28, 512)  2048       ['conv3_block3_3_conv[0][0]']    \n",
      " ization)                                                                                         \n",
      "                                                                                                  \n",
      " conv3_block3_add (Add)         (None, 28, 28, 512)  0           ['conv3_block2_out[0][0]',       \n",
      "                                                                  'conv3_block3_3_bn[0][0]']      \n",
      "                                                                                                  \n",
      " conv3_block3_out (Activation)  (None, 28, 28, 512)  0           ['conv3_block3_add[0][0]']       \n",
      "                                                                                                  \n",
      " conv3_block4_1_conv (Conv2D)   (None, 28, 28, 128)  65664       ['conv3_block3_out[0][0]']       \n",
      "                                                                                                  \n",
      " conv3_block4_1_bn (BatchNormal  (None, 28, 28, 128)  512        ['conv3_block4_1_conv[0][0]']    \n",
      " ization)                                                                                         \n",
      "                                                                                                  \n",
      " conv3_block4_1_relu (Activatio  (None, 28, 28, 128)  0          ['conv3_block4_1_bn[0][0]']      \n",
      " n)                                                                                               \n",
      "                                                                                                  \n",
      " conv3_block4_2_conv (Conv2D)   (None, 28, 28, 128)  147584      ['conv3_block4_1_relu[0][0]']    \n",
      "                                                                                                  \n",
      " conv3_block4_2_bn (BatchNormal  (None, 28, 28, 128)  512        ['conv3_block4_2_conv[0][0]']    \n",
      " ization)                                                                                         \n",
      "                                                                                                  \n",
      " conv3_block4_2_relu (Activatio  (None, 28, 28, 128)  0          ['conv3_block4_2_bn[0][0]']      \n",
      " n)                                                                                               \n",
      "                                                                                                  \n",
      " conv3_block4_3_conv (Conv2D)   (None, 28, 28, 512)  66048       ['conv3_block4_2_relu[0][0]']    \n",
      "                                                                                                  \n",
      " conv3_block4_3_bn (BatchNormal  (None, 28, 28, 512)  2048       ['conv3_block4_3_conv[0][0]']    \n",
      " ization)                                                                                         \n",
      "                                                                                                  \n",
      " conv3_block4_add (Add)         (None, 28, 28, 512)  0           ['conv3_block3_out[0][0]',       \n",
      "                                                                  'conv3_block4_3_bn[0][0]']      \n",
      "                                                                                                  \n",
      " conv3_block4_out (Activation)  (None, 28, 28, 512)  0           ['conv3_block4_add[0][0]']       \n",
      "                                                                                                  \n",
      " conv4_block1_1_conv (Conv2D)   (None, 14, 14, 256)  131328      ['conv3_block4_out[0][0]']       \n",
      "                                                                                                  \n",
      " conv4_block1_1_bn (BatchNormal  (None, 14, 14, 256)  1024       ['conv4_block1_1_conv[0][0]']    \n",
      " ization)                                                                                         \n",
      "                                                                                                  \n",
      " conv4_block1_1_relu (Activatio  (None, 14, 14, 256)  0          ['conv4_block1_1_bn[0][0]']      \n",
      " n)                                                                                               \n",
      "                                                                                                  \n",
      " conv4_block1_2_conv (Conv2D)   (None, 14, 14, 256)  590080      ['conv4_block1_1_relu[0][0]']    \n",
      "                                                                                                  \n",
      " conv4_block1_2_bn (BatchNormal  (None, 14, 14, 256)  1024       ['conv4_block1_2_conv[0][0]']    \n",
      " ization)                                                                                         \n",
      "                                                                                                  \n",
      " conv4_block1_2_relu (Activatio  (None, 14, 14, 256)  0          ['conv4_block1_2_bn[0][0]']      \n",
      " n)                                                                                               \n",
      "                                                                                                  \n",
      " conv4_block1_0_conv (Conv2D)   (None, 14, 14, 1024  525312      ['conv3_block4_out[0][0]']       \n",
      "                                )                                                                 \n",
      "                                                                                                  \n",
      " conv4_block1_3_conv (Conv2D)   (None, 14, 14, 1024  263168      ['conv4_block1_2_relu[0][0]']    \n",
      "                                )                                                                 \n",
      "                                                                                                  \n",
      " conv4_block1_0_bn (BatchNormal  (None, 14, 14, 1024  4096       ['conv4_block1_0_conv[0][0]']    \n",
      " ization)                       )                                                                 \n",
      "                                                                                                  \n",
      " conv4_block1_3_bn (BatchNormal  (None, 14, 14, 1024  4096       ['conv4_block1_3_conv[0][0]']    \n",
      " ization)                       )                                                                 \n",
      "                                                                                                  \n",
      " conv4_block1_add (Add)         (None, 14, 14, 1024  0           ['conv4_block1_0_bn[0][0]',      \n",
      "                                )                                 'conv4_block1_3_bn[0][0]']      \n",
      "                                                                                                  \n",
      " conv4_block1_out (Activation)  (None, 14, 14, 1024  0           ['conv4_block1_add[0][0]']       \n",
      "                                )                                                                 \n",
      "                                                                                                  \n",
      " conv4_block2_1_conv (Conv2D)   (None, 14, 14, 256)  262400      ['conv4_block1_out[0][0]']       \n",
      "                                                                                                  \n",
      " conv4_block2_1_bn (BatchNormal  (None, 14, 14, 256)  1024       ['conv4_block2_1_conv[0][0]']    \n",
      " ization)                                                                                         \n",
      "                                                                                                  \n",
      " conv4_block2_1_relu (Activatio  (None, 14, 14, 256)  0          ['conv4_block2_1_bn[0][0]']      \n",
      " n)                                                                                               \n",
      "                                                                                                  \n",
      " conv4_block2_2_conv (Conv2D)   (None, 14, 14, 256)  590080      ['conv4_block2_1_relu[0][0]']    \n",
      "                                                                                                  \n",
      " conv4_block2_2_bn (BatchNormal  (None, 14, 14, 256)  1024       ['conv4_block2_2_conv[0][0]']    \n",
      " ization)                                                                                         \n",
      "                                                                                                  \n",
      " conv4_block2_2_relu (Activatio  (None, 14, 14, 256)  0          ['conv4_block2_2_bn[0][0]']      \n",
      " n)                                                                                               \n",
      "                                                                                                  \n",
      " conv4_block2_3_conv (Conv2D)   (None, 14, 14, 1024  263168      ['conv4_block2_2_relu[0][0]']    \n",
      "                                )                                                                 \n",
      "                                                                                                  \n",
      " conv4_block2_3_bn (BatchNormal  (None, 14, 14, 1024  4096       ['conv4_block2_3_conv[0][0]']    \n",
      " ization)                       )                                                                 \n",
      "                                                                                                  \n",
      " conv4_block2_add (Add)         (None, 14, 14, 1024  0           ['conv4_block1_out[0][0]',       \n",
      "                                )                                 'conv4_block2_3_bn[0][0]']      \n",
      "                                                                                                  \n",
      " conv4_block2_out (Activation)  (None, 14, 14, 1024  0           ['conv4_block2_add[0][0]']       \n",
      "                                )                                                                 \n",
      "                                                                                                  \n",
      " conv4_block3_1_conv (Conv2D)   (None, 14, 14, 256)  262400      ['conv4_block2_out[0][0]']       \n",
      "                                                                                                  \n",
      " conv4_block3_1_bn (BatchNormal  (None, 14, 14, 256)  1024       ['conv4_block3_1_conv[0][0]']    \n",
      " ization)                                                                                         \n",
      "                                                                                                  \n",
      " conv4_block3_1_relu (Activatio  (None, 14, 14, 256)  0          ['conv4_block3_1_bn[0][0]']      \n",
      " n)                                                                                               \n",
      "                                                                                                  \n",
      " conv4_block3_2_conv (Conv2D)   (None, 14, 14, 256)  590080      ['conv4_block3_1_relu[0][0]']    \n",
      "                                                                                                  \n",
      " conv4_block3_2_bn (BatchNormal  (None, 14, 14, 256)  1024       ['conv4_block3_2_conv[0][0]']    \n",
      " ization)                                                                                         \n",
      "                                                                                                  \n",
      " conv4_block3_2_relu (Activatio  (None, 14, 14, 256)  0          ['conv4_block3_2_bn[0][0]']      \n",
      " n)                                                                                               \n",
      "                                                                                                  \n",
      " conv4_block3_3_conv (Conv2D)   (None, 14, 14, 1024  263168      ['conv4_block3_2_relu[0][0]']    \n",
      "                                )                                                                 \n",
      "                                                                                                  \n",
      " conv4_block3_3_bn (BatchNormal  (None, 14, 14, 1024  4096       ['conv4_block3_3_conv[0][0]']    \n",
      " ization)                       )                                                                 \n",
      "                                                                                                  \n",
      " conv4_block3_add (Add)         (None, 14, 14, 1024  0           ['conv4_block2_out[0][0]',       \n",
      "                                )                                 'conv4_block3_3_bn[0][0]']      \n",
      "                                                                                                  \n",
      " conv4_block3_out (Activation)  (None, 14, 14, 1024  0           ['conv4_block3_add[0][0]']       \n",
      "                                )                                                                 \n",
      "                                                                                                  \n",
      " conv4_block4_1_conv (Conv2D)   (None, 14, 14, 256)  262400      ['conv4_block3_out[0][0]']       \n",
      "                                                                                                  \n",
      " conv4_block4_1_bn (BatchNormal  (None, 14, 14, 256)  1024       ['conv4_block4_1_conv[0][0]']    \n",
      " ization)                                                                                         \n",
      "                                                                                                  \n",
      " conv4_block4_1_relu (Activatio  (None, 14, 14, 256)  0          ['conv4_block4_1_bn[0][0]']      \n",
      " n)                                                                                               \n",
      "                                                                                                  \n",
      " conv4_block4_2_conv (Conv2D)   (None, 14, 14, 256)  590080      ['conv4_block4_1_relu[0][0]']    \n",
      "                                                                                                  \n",
      " conv4_block4_2_bn (BatchNormal  (None, 14, 14, 256)  1024       ['conv4_block4_2_conv[0][0]']    \n",
      " ization)                                                                                         \n",
      "                                                                                                  \n",
      " conv4_block4_2_relu (Activatio  (None, 14, 14, 256)  0          ['conv4_block4_2_bn[0][0]']      \n",
      " n)                                                                                               \n",
      "                                                                                                  \n",
      " conv4_block4_3_conv (Conv2D)   (None, 14, 14, 1024  263168      ['conv4_block4_2_relu[0][0]']    \n",
      "                                )                                                                 \n",
      "                                                                                                  \n",
      " conv4_block4_3_bn (BatchNormal  (None, 14, 14, 1024  4096       ['conv4_block4_3_conv[0][0]']    \n",
      " ization)                       )                                                                 \n",
      "                                                                                                  \n",
      " conv4_block4_add (Add)         (None, 14, 14, 1024  0           ['conv4_block3_out[0][0]',       \n",
      "                                )                                 'conv4_block4_3_bn[0][0]']      \n",
      "                                                                                                  \n",
      " conv4_block4_out (Activation)  (None, 14, 14, 1024  0           ['conv4_block4_add[0][0]']       \n",
      "                                )                                                                 \n",
      "                                                                                                  \n",
      " conv4_block5_1_conv (Conv2D)   (None, 14, 14, 256)  262400      ['conv4_block4_out[0][0]']       \n",
      "                                                                                                  \n",
      " conv4_block5_1_bn (BatchNormal  (None, 14, 14, 256)  1024       ['conv4_block5_1_conv[0][0]']    \n",
      " ization)                                                                                         \n",
      "                                                                                                  \n",
      " conv4_block5_1_relu (Activatio  (None, 14, 14, 256)  0          ['conv4_block5_1_bn[0][0]']      \n",
      " n)                                                                                               \n",
      "                                                                                                  \n",
      " conv4_block5_2_conv (Conv2D)   (None, 14, 14, 256)  590080      ['conv4_block5_1_relu[0][0]']    \n",
      "                                                                                                  \n",
      " conv4_block5_2_bn (BatchNormal  (None, 14, 14, 256)  1024       ['conv4_block5_2_conv[0][0]']    \n",
      " ization)                                                                                         \n",
      "                                                                                                  \n",
      " conv4_block5_2_relu (Activatio  (None, 14, 14, 256)  0          ['conv4_block5_2_bn[0][0]']      \n",
      " n)                                                                                               \n",
      "                                                                                                  \n",
      " conv4_block5_3_conv (Conv2D)   (None, 14, 14, 1024  263168      ['conv4_block5_2_relu[0][0]']    \n",
      "                                )                                                                 \n",
      "                                                                                                  \n",
      " conv4_block5_3_bn (BatchNormal  (None, 14, 14, 1024  4096       ['conv4_block5_3_conv[0][0]']    \n",
      " ization)                       )                                                                 \n",
      "                                                                                                  \n",
      " conv4_block5_add (Add)         (None, 14, 14, 1024  0           ['conv4_block4_out[0][0]',       \n",
      "                                )                                 'conv4_block5_3_bn[0][0]']      \n",
      "                                                                                                  \n",
      " conv4_block5_out (Activation)  (None, 14, 14, 1024  0           ['conv4_block5_add[0][0]']       \n",
      "                                )                                                                 \n",
      "                                                                                                  \n",
      " conv4_block6_1_conv (Conv2D)   (None, 14, 14, 256)  262400      ['conv4_block5_out[0][0]']       \n",
      "                                                                                                  \n",
      " conv4_block6_1_bn (BatchNormal  (None, 14, 14, 256)  1024       ['conv4_block6_1_conv[0][0]']    \n",
      " ization)                                                                                         \n",
      "                                                                                                  \n",
      " conv4_block6_1_relu (Activatio  (None, 14, 14, 256)  0          ['conv4_block6_1_bn[0][0]']      \n",
      " n)                                                                                               \n",
      "                                                                                                  \n",
      " conv4_block6_2_conv (Conv2D)   (None, 14, 14, 256)  590080      ['conv4_block6_1_relu[0][0]']    \n",
      "                                                                                                  \n",
      " conv4_block6_2_bn (BatchNormal  (None, 14, 14, 256)  1024       ['conv4_block6_2_conv[0][0]']    \n",
      " ization)                                                                                         \n",
      "                                                                                                  \n",
      " conv4_block6_2_relu (Activatio  (None, 14, 14, 256)  0          ['conv4_block6_2_bn[0][0]']      \n",
      " n)                                                                                               \n",
      "                                                                                                  \n",
      " conv4_block6_3_conv (Conv2D)   (None, 14, 14, 1024  263168      ['conv4_block6_2_relu[0][0]']    \n",
      "                                )                                                                 \n",
      "                                                                                                  \n",
      " conv4_block6_3_bn (BatchNormal  (None, 14, 14, 1024  4096       ['conv4_block6_3_conv[0][0]']    \n",
      " ization)                       )                                                                 \n",
      "                                                                                                  \n",
      " conv4_block6_add (Add)         (None, 14, 14, 1024  0           ['conv4_block5_out[0][0]',       \n",
      "                                )                                 'conv4_block6_3_bn[0][0]']      \n",
      "                                                                                                  \n",
      " conv4_block6_out (Activation)  (None, 14, 14, 1024  0           ['conv4_block6_add[0][0]']       \n",
      "                                )                                                                 \n",
      "                                                                                                  \n",
      " conv5_block1_1_conv (Conv2D)   (None, 7, 7, 512)    524800      ['conv4_block6_out[0][0]']       \n",
      "                                                                                                  \n",
      " conv5_block1_1_bn (BatchNormal  (None, 7, 7, 512)   2048        ['conv5_block1_1_conv[0][0]']    \n",
      " ization)                                                                                         \n",
      "                                                                                                  \n",
      " conv5_block1_1_relu (Activatio  (None, 7, 7, 512)   0           ['conv5_block1_1_bn[0][0]']      \n",
      " n)                                                                                               \n",
      "                                                                                                  \n",
      " conv5_block1_2_conv (Conv2D)   (None, 7, 7, 512)    2359808     ['conv5_block1_1_relu[0][0]']    \n",
      "                                                                                                  \n",
      " conv5_block1_2_bn (BatchNormal  (None, 7, 7, 512)   2048        ['conv5_block1_2_conv[0][0]']    \n",
      " ization)                                                                                         \n",
      "                                                                                                  \n",
      " conv5_block1_2_relu (Activatio  (None, 7, 7, 512)   0           ['conv5_block1_2_bn[0][0]']      \n",
      " n)                                                                                               \n",
      "                                                                                                  \n",
      " conv5_block1_0_conv (Conv2D)   (None, 7, 7, 2048)   2099200     ['conv4_block6_out[0][0]']       \n",
      "                                                                                                  \n",
      " conv5_block1_3_conv (Conv2D)   (None, 7, 7, 2048)   1050624     ['conv5_block1_2_relu[0][0]']    \n",
      "                                                                                                  \n",
      " conv5_block1_0_bn (BatchNormal  (None, 7, 7, 2048)  8192        ['conv5_block1_0_conv[0][0]']    \n",
      " ization)                                                                                         \n",
      "                                                                                                  \n",
      " conv5_block1_3_bn (BatchNormal  (None, 7, 7, 2048)  8192        ['conv5_block1_3_conv[0][0]']    \n",
      " ization)                                                                                         \n",
      "                                                                                                  \n",
      " conv5_block1_add (Add)         (None, 7, 7, 2048)   0           ['conv5_block1_0_bn[0][0]',      \n",
      "                                                                  'conv5_block1_3_bn[0][0]']      \n",
      "                                                                                                  \n",
      " conv5_block1_out (Activation)  (None, 7, 7, 2048)   0           ['conv5_block1_add[0][0]']       \n",
      "                                                                                                  \n",
      " conv5_block2_1_conv (Conv2D)   (None, 7, 7, 512)    1049088     ['conv5_block1_out[0][0]']       \n",
      "                                                                                                  \n",
      " conv5_block2_1_bn (BatchNormal  (None, 7, 7, 512)   2048        ['conv5_block2_1_conv[0][0]']    \n",
      " ization)                                                                                         \n",
      "                                                                                                  \n",
      " conv5_block2_1_relu (Activatio  (None, 7, 7, 512)   0           ['conv5_block2_1_bn[0][0]']      \n",
      " n)                                                                                               \n",
      "                                                                                                  \n",
      " conv5_block2_2_conv (Conv2D)   (None, 7, 7, 512)    2359808     ['conv5_block2_1_relu[0][0]']    \n",
      "                                                                                                  \n",
      " conv5_block2_2_bn (BatchNormal  (None, 7, 7, 512)   2048        ['conv5_block2_2_conv[0][0]']    \n",
      " ization)                                                                                         \n",
      "                                                                                                  \n",
      " conv5_block2_2_relu (Activatio  (None, 7, 7, 512)   0           ['conv5_block2_2_bn[0][0]']      \n",
      " n)                                                                                               \n",
      "                                                                                                  \n",
      " conv5_block2_3_conv (Conv2D)   (None, 7, 7, 2048)   1050624     ['conv5_block2_2_relu[0][0]']    \n",
      "                                                                                                  \n",
      " conv5_block2_3_bn (BatchNormal  (None, 7, 7, 2048)  8192        ['conv5_block2_3_conv[0][0]']    \n",
      " ization)                                                                                         \n",
      "                                                                                                  \n",
      " conv5_block2_add (Add)         (None, 7, 7, 2048)   0           ['conv5_block1_out[0][0]',       \n",
      "                                                                  'conv5_block2_3_bn[0][0]']      \n",
      "                                                                                                  \n",
      " conv5_block2_out (Activation)  (None, 7, 7, 2048)   0           ['conv5_block2_add[0][0]']       \n",
      "                                                                                                  \n",
      " conv5_block3_1_conv (Conv2D)   (None, 7, 7, 512)    1049088     ['conv5_block2_out[0][0]']       \n",
      "                                                                                                  \n",
      " conv5_block3_1_bn (BatchNormal  (None, 7, 7, 512)   2048        ['conv5_block3_1_conv[0][0]']    \n",
      " ization)                                                                                         \n",
      "                                                                                                  \n",
      " conv5_block3_1_relu (Activatio  (None, 7, 7, 512)   0           ['conv5_block3_1_bn[0][0]']      \n",
      " n)                                                                                               \n",
      "                                                                                                  \n",
      " conv5_block3_2_conv (Conv2D)   (None, 7, 7, 512)    2359808     ['conv5_block3_1_relu[0][0]']    \n",
      "                                                                                                  \n",
      " conv5_block3_2_bn (BatchNormal  (None, 7, 7, 512)   2048        ['conv5_block3_2_conv[0][0]']    \n",
      " ization)                                                                                         \n",
      "                                                                                                  \n",
      " conv5_block3_2_relu (Activatio  (None, 7, 7, 512)   0           ['conv5_block3_2_bn[0][0]']      \n",
      " n)                                                                                               \n",
      "                                                                                                  \n",
      " conv5_block3_3_conv (Conv2D)   (None, 7, 7, 2048)   1050624     ['conv5_block3_2_relu[0][0]']    \n",
      "                                                                                                  \n",
      " conv5_block3_3_bn (BatchNormal  (None, 7, 7, 2048)  8192        ['conv5_block3_3_conv[0][0]']    \n",
      " ization)                                                                                         \n",
      "                                                                                                  \n",
      " conv5_block3_add (Add)         (None, 7, 7, 2048)   0           ['conv5_block2_out[0][0]',       \n",
      "                                                                  'conv5_block3_3_bn[0][0]']      \n",
      "                                                                                                  \n",
      " conv5_block3_out (Activation)  (None, 7, 7, 2048)   0           ['conv5_block3_add[0][0]']       \n",
      "                                                                                                  \n",
      " avg_pool (GlobalAveragePooling  (None, 2048)        0           ['conv5_block3_out[0][0]']       \n",
      " 2D)                                                                                              \n",
      "                                                                                                  \n",
      " predictions (Dense)            (None, 1000)         2049000     ['avg_pool[0][0]']               \n",
      "                                                                                                  \n",
      "==================================================================================================\n",
      "Total params: 25,636,712\n",
      "Trainable params: 25,583,592\n",
      "Non-trainable params: 53,120\n",
      "__________________________________________________________________________________________________\n"
     ]
    }
   ],
   "source": [
    "model.summary()"
   ]
  },
  {
   "cell_type": "markdown",
   "id": "54fc1fac",
   "metadata": {},
   "source": [
    "Import a lemon image"
   ]
  },
  {
   "cell_type": "code",
   "execution_count": 277,
   "id": "130ab460",
   "metadata": {},
   "outputs": [],
   "source": [
    "lemon_img = image.load_img(r\"C:\\Users\\Lenovo\\Desktop\\Lemon.jpg\", target_size=(224,224))\n",
    "lemon_img = image.img_to_array(lemon_img)[np.newaxis, ...]\n",
    "lemon_img = preprocess_input(lemon_img)"
   ]
  },
  {
   "cell_type": "code",
   "execution_count": 278,
   "id": "f4f09308",
   "metadata": {},
   "outputs": [
    {
     "data": {
      "text/plain": [
       "[('n07749582', 'lemon', 0.9825152),\n",
       " ('n07747607', 'orange', 0.017471667),\n",
       " ('n07754684', 'jackfruit', 4.036418e-06)]"
      ]
     },
     "execution_count": 278,
     "metadata": {},
     "output_type": "execute_result"
    }
   ],
   "source": [
    "preds = model.predict(lemon_img)\n",
    "decoded_preds = decode_predictions(preds, top=3)[0]\n",
    "decoded_preds"
   ]
  },
  {
   "cell_type": "code",
   "execution_count": null,
   "id": "09e08387",
   "metadata": {},
   "outputs": [],
   "source": [
    "Import a Bugatti image"
   ]
  },
  {
   "cell_type": "code",
   "execution_count": 264,
   "id": "77cd5b26",
   "metadata": {},
   "outputs": [
    {
     "data": {
      "text/plain": [
       "[('n04285008', 'sports_car', 0.58819145),\n",
       " ('n04037443', 'racer', 0.22395493),\n",
       " ('n02930766', 'cab', 0.04417637)]"
      ]
     },
     "execution_count": 264,
     "metadata": {},
     "output_type": "execute_result"
    }
   ],
   "source": [
    "img_input = image.load_img(r\"C:\\Users\\Lenovo\\Desktop\\bugatti.jfif\", target_size=(224,224))\n",
    "img_input = image.img_to_array(img_input)\n",
    "img_input = preprocess_input(img_input[np.newaxis, ...])\n",
    "\n",
    "preds = model.predict(img_input)\n",
    "decoded_preds = decode_predictions(preds, top=3)[0]\n",
    "decoded_preds"
   ]
  },
  {
   "cell_type": "markdown",
   "id": "82bfa86d",
   "metadata": {},
   "source": [
    "# TensorFlow Hub Modules"
   ]
  },
  {
   "cell_type": "code",
   "execution_count": 281,
   "id": "23b4fb27",
   "metadata": {},
   "outputs": [],
   "source": [
    "import tensorflow_hub as hub"
   ]
  },
  {
   "cell_type": "code",
   "execution_count": 234,
   "id": "4e89f968",
   "metadata": {},
   "outputs": [],
   "source": [
    "module_url = \"https://tfhub.dev/google/imagenet/mobilenet_v1_050_160/classification/4\""
   ]
  },
  {
   "cell_type": "code",
   "execution_count": 239,
   "id": "e2308e48",
   "metadata": {},
   "outputs": [],
   "source": [
    "model = Sequential(hub.KerasLayer(module_url))\n",
    "model.build(input_shape=[None,160,160,3])"
   ]
  },
  {
   "cell_type": "code",
   "execution_count": 240,
   "id": "130a3586",
   "metadata": {},
   "outputs": [
    {
     "name": "stdout",
     "output_type": "stream",
     "text": [
      "Model: \"sequential_31\"\n",
      "_________________________________________________________________\n",
      " Layer (type)                Output Shape              Param #   \n",
      "=================================================================\n",
      " keras_layer_2 (KerasLayer)  (None, 1001)              1343049   \n",
      "                                                                 \n",
      "=================================================================\n",
      "Total params: 1,343,049\n",
      "Trainable params: 0\n",
      "Non-trainable params: 1,343,049\n",
      "_________________________________________________________________\n"
     ]
    }
   ],
   "source": [
    "model.summary()"
   ]
  },
  {
   "cell_type": "markdown",
   "id": "95d5535e",
   "metadata": {},
   "source": [
    "Reimport the lemon image"
   ]
  },
  {
   "cell_type": "code",
   "execution_count": 279,
   "id": "0bb80d95",
   "metadata": {},
   "outputs": [
    {
     "data": {
      "text/plain": [
       "[('n07749582', 'lemon', 0.9825152),\n",
       " ('n07747607', 'orange', 0.017471667),\n",
       " ('n07754684', 'jackfruit', 4.036418e-06)]"
      ]
     },
     "execution_count": 279,
     "metadata": {},
     "output_type": "execute_result"
    }
   ],
   "source": [
    "lemon_img = image.load_img(r\"C:\\Users\\Lenovo\\Desktop\\Lemon.jpg\", target_size=(224,224))\n",
    "lemon_img = image.img_to_array(lemon_img)[np.newaxis, ...]\n",
    "lemon_img = preprocess_input(lemon_img)\n",
    "\n",
    "preds = model.predict(lemon_img)\n",
    "decoded_preds = decode_predictions(preds, top=3)[0]\n",
    "decoded_preds"
   ]
  },
  {
   "cell_type": "code",
   "execution_count": null,
   "id": "54b8b585",
   "metadata": {},
   "outputs": [],
   "source": []
  }
 ],
 "metadata": {
  "kernelspec": {
   "display_name": "Python 3",
   "language": "python",
   "name": "python3"
  },
  "language_info": {
   "codemirror_mode": {
    "name": "ipython",
    "version": 3
   },
   "file_extension": ".py",
   "mimetype": "text/x-python",
   "name": "python",
   "nbconvert_exporter": "python",
   "pygments_lexer": "ipython3",
   "version": "3.8.8"
  }
 },
 "nbformat": 4,
 "nbformat_minor": 5
}
