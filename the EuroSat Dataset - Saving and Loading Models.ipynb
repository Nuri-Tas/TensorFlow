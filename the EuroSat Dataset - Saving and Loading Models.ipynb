{
 "cells": [
  {
   "cell_type": "code",
   "execution_count": 89,
   "metadata": {},
   "outputs": [],
   "source": [
    "import tensorflow as tf\n",
    "from tensorflow.keras.preprocessing.image import load_img, img_to_array\n",
    "from tensorflow.keras.models import Sequential, load_model\n",
    "from tensorflow.keras.layers import Dense, Flatten, Conv2D, MaxPooling2D\n",
    "from tensorflow.keras.callbacks import ModelCheckpoint, EarlyStopping\n",
    "import os\n",
    "import numpy as np\n",
    "import pandas as pd"
   ]
  },
  {
   "cell_type": "markdown",
   "metadata": {},
   "source": [
    "\n",
    "#### The EuroSAT dataset\n",
    "\n",
    "\n",
    "The dataset is from https://github.com/phelber/EuroSAT. For a reference, see the following papers:\n",
    "- Eurosat: A novel dataset and deep learning benchmark for land use and land cover classification. Patrick Helber, Benjamin Bischke, Andreas Dengel, Damian Borth. IEEE Journal of Selected Topics in Applied Earth Observations and Remote Sensing, 2019.\n",
    "- Introducing EuroSAT: A Novel Dataset and Deep Learning Benchmark for Land Use and Land Cover Classification. Patrick Helber, Benjamin Bischke, Andreas Dengel. 2018 IEEE International Geoscience and Remote Sensing Symposium, 2018.\n"
   ]
  },
  {
   "cell_type": "markdown",
   "metadata": {},
   "source": [
    "#### Import the data"
   ]
  },
  {
   "cell_type": "code",
   "execution_count": 90,
   "metadata": {},
   "outputs": [],
   "source": [
    "def load_eurosat_data():\n",
    "    data_dir = 'data/'\n",
    "    x_train = np.load(os.path.join(data_dir, 'x_train.npy'))\n",
    "    y_train = np.load(os.path.join(data_dir, 'y_train.npy'))\n",
    "    x_test  = np.load(os.path.join(data_dir, 'x_test.npy'))\n",
    "    y_test  = np.load(os.path.join(data_dir, 'y_test.npy'))\n",
    "    return (x_train, y_train), (x_test, y_test)\n",
    "\n",
    "(x_train, y_train), (x_test, y_test) = load_eurosat_data()\n",
    "x_train = x_train / 255.0\n",
    "x_test = x_test / 255.0"
   ]
  },
  {
   "cell_type": "markdown",
   "metadata": {},
   "source": [
    "#### Build the neural network model"
   ]
  },
  {
   "cell_type": "code",
   "execution_count": 91,
   "metadata": {},
   "outputs": [],
   "source": [
    "def get_new_model(input_shape):\n",
    "\n",
    "    model = Sequential([\n",
    "        Conv2D(16, (3,3), activation='relu', padding='same', input_shape=input_shape, name='conv_1'),\n",
    "        Conv2D(8, (3,3), activation='relu', padding='same', name='conv_2'),\n",
    "        MaxPooling2D((8,8), name='pool_1'),\n",
    "        Flatten(),\n",
    "        Dense(32, activation='relu', name='dense_1'),\n",
    "        Dense(10, activation='softmax', name='dense_2')\n",
    "    ])\n",
    "    \n",
    "    model.compile(optimizer='adam', loss='sparse_categorical_crossentropy', metrics=['accuracy'])\n",
    "    \n",
    "    return model\n",
    "    "
   ]
  },
  {
   "cell_type": "markdown",
   "metadata": {},
   "source": [
    "#### Compile and evaluate the model"
   ]
  },
  {
   "cell_type": "code",
   "execution_count": 92,
   "metadata": {},
   "outputs": [],
   "source": [
    "model = get_new_model(x_train[0].shape)"
   ]
  },
  {
   "cell_type": "code",
   "execution_count": 93,
   "metadata": {},
   "outputs": [],
   "source": [
    "def get_test_accuracy(model, x_test, y_test):\n",
    "    \"\"\"Test model classification accuracy\"\"\"\n",
    "    test_loss, test_acc = model.evaluate(x=x_test, y=y_test, verbose=0)\n",
    "    print('accuracy: {acc:0.3f}'.format(acc=test_acc))"
   ]
  },
  {
   "cell_type": "code",
   "execution_count": 94,
   "metadata": {},
   "outputs": [
    {
     "name": "stdout",
     "output_type": "stream",
     "text": [
      "Model: \"sequential_31\"\n",
      "_________________________________________________________________\n",
      "Layer (type)                 Output Shape              Param #   \n",
      "=================================================================\n",
      "conv_1 (Conv2D)              (None, 64, 64, 16)        448       \n",
      "_________________________________________________________________\n",
      "conv_2 (Conv2D)              (None, 64, 64, 8)         1160      \n",
      "_________________________________________________________________\n",
      "pool_1 (MaxPooling2D)        (None, 8, 8, 8)           0         \n",
      "_________________________________________________________________\n",
      "flatten_31 (Flatten)         (None, 512)               0         \n",
      "_________________________________________________________________\n",
      "dense_1 (Dense)              (None, 32)                16416     \n",
      "_________________________________________________________________\n",
      "dense_2 (Dense)              (None, 10)                330       \n",
      "=================================================================\n",
      "Total params: 18,354\n",
      "Trainable params: 18,354\n",
      "Non-trainable params: 0\n",
      "_________________________________________________________________\n",
      "accuracy: 0.038\n"
     ]
    }
   ],
   "source": [
    "model.summary()\n",
    "get_test_accuracy(model, x_test, y_test)"
   ]
  },
  {
   "cell_type": "markdown",
   "metadata": {},
   "source": [
    "#### Create checkpoints to save model during training, with a criterion\n"
   ]
  },
  {
   "cell_type": "code",
   "execution_count": 95,
   "metadata": {},
   "outputs": [],
   "source": [
    "def get_checkpoint_every_epoch():\n",
    "\n",
    "    return ModelCheckpoint(\n",
    "        filepath = 'checkpoints_every_epoch/checkpoint_{epoch:03d}',\n",
    "        frequency='epoch',\n",
    "        save_weights_only=True, \n",
    "        verbose=1)\n",
    "\n",
    "\n",
    "def get_checkpoint_best_only():\n",
    " \n",
    "    return ModelCheckpoint(\n",
    "        filepath = 'checkpoints_best_only/checkpoint',\n",
    "        frequency='epoch',\n",
    "        save_best_only=True,\n",
    "        monitor='val_accuracy',\n",
    "        save_weights_only=True, \n",
    "        verbose=1)"
   ]
  },
  {
   "cell_type": "code",
   "execution_count": 96,
   "metadata": {},
   "outputs": [],
   "source": [
    "def get_early_stopping():\n",
    "\n",
    "    \n",
    "    return EarlyStopping(monitor='val_accuracy', patience=3)"
   ]
  },
  {
   "cell_type": "code",
   "execution_count": 97,
   "metadata": {},
   "outputs": [],
   "source": [
    "checkpoint_every_epoch = get_checkpoint_every_epoch()\n",
    "checkpoint_best_only = get_checkpoint_best_only()\n",
    "early_stopping = get_early_stopping()"
   ]
  },
  {
   "cell_type": "markdown",
   "metadata": {},
   "source": [
    "#### Train model using the callbacks\n"
   ]
  },
  {
   "cell_type": "code",
   "execution_count": 98,
   "metadata": {},
   "outputs": [
    {
     "name": "stdout",
     "output_type": "stream",
     "text": [
      "Train on 4000 samples, validate on 1000 samples\n",
      "Epoch 1/50\n",
      "3968/4000 [============================>.] - ETA: 0s - loss: 2.1096 - accuracy: 0.1920\n",
      "Epoch 00001: saving model to checkpoints_every_epoch/checkpoint_001\n",
      "\n",
      "Epoch 00001: val_accuracy improved from -inf to 0.32700, saving model to checkpoints_best_only/checkpoint\n",
      "4000/4000 [==============================] - 86s 21ms/sample - loss: 2.1064 - accuracy: 0.1933 - val_loss: 1.7541 - val_accuracy: 0.3270\n",
      "Epoch 2/50\n",
      "3968/4000 [============================>.] - ETA: 0s - loss: 1.5583 - accuracy: 0.3982\n",
      "Epoch 00002: saving model to checkpoints_every_epoch/checkpoint_002\n",
      "\n",
      "Epoch 00002: val_accuracy improved from 0.32700 to 0.39200, saving model to checkpoints_best_only/checkpoint\n",
      "4000/4000 [==============================] - 87s 22ms/sample - loss: 1.5572 - accuracy: 0.3985 - val_loss: 1.4861 - val_accuracy: 0.3920\n",
      "Epoch 3/50\n",
      "3968/4000 [============================>.] - ETA: 0s - loss: 1.3715 - accuracy: 0.4851\n",
      "Epoch 00003: saving model to checkpoints_every_epoch/checkpoint_003\n",
      "\n",
      "Epoch 00003: val_accuracy improved from 0.39200 to 0.51200, saving model to checkpoints_best_only/checkpoint\n",
      "4000/4000 [==============================] - 85s 21ms/sample - loss: 1.3720 - accuracy: 0.4860 - val_loss: 1.3208 - val_accuracy: 0.5120\n",
      "Epoch 4/50\n",
      "3968/4000 [============================>.] - ETA: 0s - loss: 1.2566 - accuracy: 0.5439\n",
      "Epoch 00004: saving model to checkpoints_every_epoch/checkpoint_004\n",
      "\n",
      "Epoch 00004: val_accuracy improved from 0.51200 to 0.52100, saving model to checkpoints_best_only/checkpoint\n",
      "4000/4000 [==============================] - 84s 21ms/sample - loss: 1.2543 - accuracy: 0.5443 - val_loss: 1.2552 - val_accuracy: 0.5210\n",
      "Epoch 5/50\n",
      "3968/4000 [============================>.] - ETA: 0s - loss: 1.2141 - accuracy: 0.5426\n",
      "Epoch 00005: saving model to checkpoints_every_epoch/checkpoint_005\n",
      "\n",
      "Epoch 00005: val_accuracy improved from 0.52100 to 0.55700, saving model to checkpoints_best_only/checkpoint\n",
      "4000/4000 [==============================] - 86s 21ms/sample - loss: 1.2140 - accuracy: 0.5435 - val_loss: 1.2114 - val_accuracy: 0.5570\n",
      "Epoch 6/50\n",
      "3968/4000 [============================>.] - ETA: 0s - loss: 1.1386 - accuracy: 0.5839\n",
      "Epoch 00006: saving model to checkpoints_every_epoch/checkpoint_006\n",
      "\n",
      "Epoch 00006: val_accuracy improved from 0.55700 to 0.57200, saving model to checkpoints_best_only/checkpoint\n",
      "4000/4000 [==============================] - 85s 21ms/sample - loss: 1.1399 - accuracy: 0.5840 - val_loss: 1.1829 - val_accuracy: 0.5720\n",
      "Epoch 7/50\n",
      "3968/4000 [============================>.] - ETA: 0s - loss: 1.1076 - accuracy: 0.5968\n",
      "Epoch 00007: saving model to checkpoints_every_epoch/checkpoint_007\n",
      "\n",
      "Epoch 00007: val_accuracy improved from 0.57200 to 0.58100, saving model to checkpoints_best_only/checkpoint\n",
      "4000/4000 [==============================] - 86s 21ms/sample - loss: 1.1072 - accuracy: 0.5970 - val_loss: 1.1510 - val_accuracy: 0.5810\n",
      "Epoch 8/50\n",
      "3968/4000 [============================>.] - ETA: 0s - loss: 1.0819 - accuracy: 0.5970\n",
      "Epoch 00008: saving model to checkpoints_every_epoch/checkpoint_008\n",
      "\n",
      "Epoch 00008: val_accuracy improved from 0.58100 to 0.58300, saving model to checkpoints_best_only/checkpoint\n",
      "4000/4000 [==============================] - 86s 21ms/sample - loss: 1.0800 - accuracy: 0.5975 - val_loss: 1.1609 - val_accuracy: 0.5830\n",
      "Epoch 9/50\n",
      "3968/4000 [============================>.] - ETA: 0s - loss: 1.0358 - accuracy: 0.6215\n",
      "Epoch 00009: saving model to checkpoints_every_epoch/checkpoint_009\n",
      "\n",
      "Epoch 00009: val_accuracy improved from 0.58300 to 0.59500, saving model to checkpoints_best_only/checkpoint\n",
      "4000/4000 [==============================] - 85s 21ms/sample - loss: 1.0340 - accuracy: 0.6220 - val_loss: 1.0949 - val_accuracy: 0.5950\n",
      "Epoch 10/50\n",
      "3968/4000 [============================>.] - ETA: 0s - loss: 1.0189 - accuracy: 0.6300\n",
      "Epoch 00010: saving model to checkpoints_every_epoch/checkpoint_010\n",
      "\n",
      "Epoch 00010: val_accuracy did not improve from 0.59500\n",
      "4000/4000 [==============================] - 85s 21ms/sample - loss: 1.0199 - accuracy: 0.6298 - val_loss: 1.1551 - val_accuracy: 0.5560\n",
      "Epoch 11/50\n",
      "3968/4000 [============================>.] - ETA: 0s - loss: 0.9938 - accuracy: 0.6326\n",
      "Epoch 00011: saving model to checkpoints_every_epoch/checkpoint_011\n",
      "\n",
      "Epoch 00011: val_accuracy improved from 0.59500 to 0.59600, saving model to checkpoints_best_only/checkpoint\n",
      "4000/4000 [==============================] - 84s 21ms/sample - loss: 0.9929 - accuracy: 0.6317 - val_loss: 1.1360 - val_accuracy: 0.5960\n",
      "Epoch 12/50\n",
      "3968/4000 [============================>.] - ETA: 0s - loss: 0.9496 - accuracy: 0.6550\n",
      "Epoch 00012: saving model to checkpoints_every_epoch/checkpoint_012\n",
      "\n",
      "Epoch 00012: val_accuracy improved from 0.59600 to 0.61000, saving model to checkpoints_best_only/checkpoint\n",
      "4000/4000 [==============================] - 83s 21ms/sample - loss: 0.9505 - accuracy: 0.6550 - val_loss: 1.0356 - val_accuracy: 0.6100\n",
      "Epoch 13/50\n",
      "3968/4000 [============================>.] - ETA: 0s - loss: 0.9198 - accuracy: 0.6673\n",
      "Epoch 00013: saving model to checkpoints_every_epoch/checkpoint_013\n",
      "\n",
      "Epoch 00013: val_accuracy did not improve from 0.61000\n",
      "4000/4000 [==============================] - 84s 21ms/sample - loss: 0.9219 - accuracy: 0.6662 - val_loss: 1.1006 - val_accuracy: 0.5780\n",
      "Epoch 14/50\n",
      "3968/4000 [============================>.] - ETA: 0s - loss: 0.9052 - accuracy: 0.6618\n",
      "Epoch 00014: saving model to checkpoints_every_epoch/checkpoint_014\n",
      "\n",
      "Epoch 00014: val_accuracy improved from 0.61000 to 0.62700, saving model to checkpoints_best_only/checkpoint\n",
      "4000/4000 [==============================] - 83s 21ms/sample - loss: 0.9057 - accuracy: 0.6620 - val_loss: 1.0056 - val_accuracy: 0.6270\n",
      "Epoch 15/50\n",
      "3968/4000 [============================>.] - ETA: 0s - loss: 0.8937 - accuracy: 0.6731\n",
      "Epoch 00015: saving model to checkpoints_every_epoch/checkpoint_015\n",
      "\n",
      "Epoch 00015: val_accuracy improved from 0.62700 to 0.63900, saving model to checkpoints_best_only/checkpoint\n",
      "4000/4000 [==============================] - 83s 21ms/sample - loss: 0.8935 - accuracy: 0.6733 - val_loss: 0.9647 - val_accuracy: 0.6390\n",
      "Epoch 16/50\n",
      "3968/4000 [============================>.] - ETA: 0s - loss: 0.8465 - accuracy: 0.6948\n",
      "Epoch 00016: saving model to checkpoints_every_epoch/checkpoint_016\n",
      "\n",
      "Epoch 00016: val_accuracy improved from 0.63900 to 0.64200, saving model to checkpoints_best_only/checkpoint\n",
      "4000/4000 [==============================] - 91s 23ms/sample - loss: 0.8455 - accuracy: 0.6950 - val_loss: 0.9392 - val_accuracy: 0.6420\n",
      "Epoch 17/50\n",
      "3968/4000 [============================>.] - ETA: 0s - loss: 0.8230 - accuracy: 0.6993\n",
      "Epoch 00017: saving model to checkpoints_every_epoch/checkpoint_017\n",
      "\n",
      "Epoch 00017: val_accuracy improved from 0.64200 to 0.64400, saving model to checkpoints_best_only/checkpoint\n",
      "4000/4000 [==============================] - 82s 20ms/sample - loss: 0.8228 - accuracy: 0.6995 - val_loss: 0.9488 - val_accuracy: 0.6440\n",
      "Epoch 18/50\n",
      "3968/4000 [============================>.] - ETA: 0s - loss: 0.7997 - accuracy: 0.7072\n",
      "Epoch 00018: saving model to checkpoints_every_epoch/checkpoint_018\n",
      "\n",
      "Epoch 00018: val_accuracy improved from 0.64400 to 0.66900, saving model to checkpoints_best_only/checkpoint\n",
      "4000/4000 [==============================] - 82s 21ms/sample - loss: 0.7989 - accuracy: 0.7072 - val_loss: 0.8729 - val_accuracy: 0.6690\n",
      "Epoch 19/50\n",
      "3968/4000 [============================>.] - ETA: 0s - loss: 0.7522 - accuracy: 0.7243\n",
      "Epoch 00019: saving model to checkpoints_every_epoch/checkpoint_019\n",
      "\n",
      "Epoch 00019: val_accuracy did not improve from 0.66900\n",
      "4000/4000 [==============================] - 82s 21ms/sample - loss: 0.7500 - accuracy: 0.7250 - val_loss: 0.8915 - val_accuracy: 0.6590\n",
      "Epoch 20/50\n",
      "3968/4000 [============================>.] - ETA: 0s - loss: 0.7319 - accuracy: 0.7389\n",
      "Epoch 00020: saving model to checkpoints_every_epoch/checkpoint_020\n",
      "\n",
      "Epoch 00020: val_accuracy did not improve from 0.66900\n",
      "4000/4000 [==============================] - 83s 21ms/sample - loss: 0.7330 - accuracy: 0.7380 - val_loss: 0.8472 - val_accuracy: 0.6660\n",
      "Epoch 21/50\n",
      "3968/4000 [============================>.] - ETA: 0s - loss: 0.7253 - accuracy: 0.7384\n",
      "Epoch 00021: saving model to checkpoints_every_epoch/checkpoint_021\n",
      "\n",
      "Epoch 00021: val_accuracy did not improve from 0.66900\n",
      "4000/4000 [==============================] - 83s 21ms/sample - loss: 0.7258 - accuracy: 0.7377 - val_loss: 0.8781 - val_accuracy: 0.6650\n"
     ]
    },
    {
     "data": {
      "text/plain": [
       "<tensorflow.python.keras.callbacks.History at 0x7f3ce198ae48>"
      ]
     },
     "execution_count": 98,
     "metadata": {},
     "output_type": "execute_result"
    }
   ],
   "source": [
    "callbacks = [checkpoint_every_epoch, checkpoint_best_only, early_stopping]\n",
    "model.fit(x_train, y_train, epochs=50, validation_data=(x_test, y_test), callbacks=callbacks)"
   ]
  },
  {
   "cell_type": "markdown",
   "metadata": {},
   "source": [
    "#### Create new instance of model and load on both sets of weights\n"
   ]
  },
  {
   "cell_type": "code",
   "execution_count": 99,
   "metadata": {},
   "outputs": [],
   "source": [
    "checkpoint_path = 'checkpoints_every_epoch\\checkpoint_{epoch:03d}'\n",
    "checkpoint_best_only = 'checkpoints_best_only\\checkpoint'\n",
    "\n",
    "def get_model_last_epoch(model):\n",
    "\n",
    "    model.load_weights(tf.train.latest_checkpoint(checkpoint_dir='checkpoints_every_epoch'))\n",
    "    return model\n",
    "    \n",
    "    \n",
    "def get_model_best_epoch(model):\n",
    "\n",
    "    \n",
    "    model.load_weights('checkpoints_best_only/checkpoint')\n",
    "    return model\n"
   ]
  },
  {
   "cell_type": "code",
   "execution_count": 101,
   "metadata": {},
   "outputs": [
    {
     "name": "stdout",
     "output_type": "stream",
     "text": [
      "Model with last epoch weights:\n",
      "accuracy: 0.665\n",
      "\n",
      "Model with best epoch weights:\n",
      "accuracy: 0.669\n"
     ]
    }
   ],
   "source": [
    "model_last_epoch = get_model_last_epoch(get_new_model(x_train[0].shape))\n",
    "model_best_epoch = get_model_best_epoch(get_new_model(x_train[0].shape))\n",
    "print('Model with last epoch weights:')\n",
    "get_test_accuracy(model_last_epoch, x_test, y_test)\n",
    "print('')\n",
    "print('Model with best epoch weights:')\n",
    "get_test_accuracy(model_best_epoch, x_test, y_test)"
   ]
  },
  {
   "cell_type": "markdown",
   "metadata": {},
   "source": [
    "#### Load, from scratch, a model trained on the EuroSat dataset.\n"
   ]
  },
  {
   "cell_type": "code",
   "execution_count": 102,
   "metadata": {},
   "outputs": [],
   "source": [
    "def get_model_eurosatnet():\n",
    "\n",
    "    return load_model('models/EuroSatNet.h5')\n",
    "    \n",
    "    \n",
    "    "
   ]
  },
  {
   "cell_type": "code",
   "execution_count": 103,
   "metadata": {},
   "outputs": [
    {
     "name": "stdout",
     "output_type": "stream",
     "text": [
      "Model: \"sequential_21\"\n",
      "_________________________________________________________________\n",
      "Layer (type)                 Output Shape              Param #   \n",
      "=================================================================\n",
      "conv_1 (Conv2D)              (None, 64, 64, 16)        448       \n",
      "_________________________________________________________________\n",
      "conv_2 (Conv2D)              (None, 64, 64, 16)        6416      \n",
      "_________________________________________________________________\n",
      "pool_1 (MaxPooling2D)        (None, 32, 32, 16)        0         \n",
      "_________________________________________________________________\n",
      "conv_3 (Conv2D)              (None, 32, 32, 16)        2320      \n",
      "_________________________________________________________________\n",
      "conv_4 (Conv2D)              (None, 32, 32, 16)        6416      \n",
      "_________________________________________________________________\n",
      "pool_2 (MaxPooling2D)        (None, 16, 16, 16)        0         \n",
      "_________________________________________________________________\n",
      "conv_5 (Conv2D)              (None, 16, 16, 16)        2320      \n",
      "_________________________________________________________________\n",
      "conv_6 (Conv2D)              (None, 16, 16, 16)        6416      \n",
      "_________________________________________________________________\n",
      "pool_3 (MaxPooling2D)        (None, 8, 8, 16)          0         \n",
      "_________________________________________________________________\n",
      "conv_7 (Conv2D)              (None, 8, 8, 16)          2320      \n",
      "_________________________________________________________________\n",
      "conv_8 (Conv2D)              (None, 8, 8, 16)          6416      \n",
      "_________________________________________________________________\n",
      "pool_4 (MaxPooling2D)        (None, 4, 4, 16)          0         \n",
      "_________________________________________________________________\n",
      "flatten (Flatten)            (None, 256)               0         \n",
      "_________________________________________________________________\n",
      "dense_1 (Dense)              (None, 32)                8224      \n",
      "_________________________________________________________________\n",
      "dense_2 (Dense)              (None, 10)                330       \n",
      "=================================================================\n",
      "Total params: 41,626\n",
      "Trainable params: 41,626\n",
      "Non-trainable params: 0\n",
      "_________________________________________________________________\n",
      "accuracy: 0.810\n"
     ]
    }
   ],
   "source": [
    "model_eurosatnet = get_model_eurosatnet()\n",
    "model_eurosatnet.summary()\n",
    "get_test_accuracy(model_eurosatnet, x_test, y_test)"
   ]
  },
  {
   "cell_type": "code",
   "execution_count": null,
   "metadata": {},
   "outputs": [],
   "source": []
  },
  {
   "cell_type": "code",
   "execution_count": null,
   "metadata": {},
   "outputs": [],
   "source": []
  },
  {
   "cell_type": "code",
   "execution_count": null,
   "metadata": {},
   "outputs": [],
   "source": []
  }
 ],
 "metadata": {
  "coursera": {
   "course_slug": "tensor-flow-2-1",
   "graded_item_id": "JaRY0",
   "launcher_item_id": "mJ8fg"
  },
  "kernelspec": {
   "display_name": "Python 3",
   "language": "python",
   "name": "python3"
  },
  "language_info": {
   "codemirror_mode": {
    "name": "ipython",
    "version": 3
   },
   "file_extension": ".py",
   "mimetype": "text/x-python",
   "name": "python",
   "nbconvert_exporter": "python",
   "pygments_lexer": "ipython3",
   "version": "3.8.8"
  }
 },
 "nbformat": 4,
 "nbformat_minor": 2
}
